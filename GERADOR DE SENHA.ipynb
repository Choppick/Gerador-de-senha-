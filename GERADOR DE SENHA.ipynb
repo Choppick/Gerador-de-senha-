{
 "cells": [
  {
   "cell_type": "code",
   "execution_count": null,
   "metadata": {},
   "outputs": [],
   "source": [
    "import random\n",
    "import string\n",
    "\n",
    "def generate_password(length):\n",
    "    # Obtém uma lista com todas as letras minúsculas, maiúsculas e dígitos\n",
    "    characters = string.ascii_lowercase + string.ascii_uppercase + string.digits\n",
    "    # Embaralha a lista de caracteres\n",
    "    characters = ''.join(random.sample(characters, len(characters)))\n",
    "    # Seleciona os primeiros `length` caracteres da lista embaralhada como a senha gerada\n",
    "    password = characters[:length]\n",
    "    return password\n",
    "# Exemplo de uso\n",
    "password = generate_password(10)\n",
    "print(password)\n"
   ]
  }
 ],
 "metadata": {
  "language_info": {
   "name": "python"
  },
  "orig_nbformat": 4
 },
 "nbformat": 4,
 "nbformat_minor": 2
}
